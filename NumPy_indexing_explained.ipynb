{
 "cells": [
  {
   "cell_type": "markdown",
   "metadata": {},
   "source": [
    "# NumPy indexing Explained"
   ]
  },
  {
   "cell_type": "markdown",
   "metadata": {},
   "source": [
    "Notebook version of the blog post NumPy indexing explained"
   ]
  },
  {
   "cell_type": "code",
   "execution_count": 31,
   "metadata": {},
   "outputs": [],
   "source": [
    "import numpy as np\n",
    "from string import ascii_uppercase\n",
    "from itertools import product"
   ]
  },
  {
   "cell_type": "markdown",
   "metadata": {},
   "source": [
    "## Basic slicing"
   ]
  },
  {
   "cell_type": "markdown",
   "metadata": {},
   "source": [
    "\n",
    "NumPy's basic slicing is an extension of Python's basic slicing concept extended to N dimensions.\n",
    "It essentially allows you to take slices of an array along its dimensions using basic slicing notation, i.e start:stop:step. If you are not too familiar with Python's basic slicing notation you can check this post in stack overflow which makes it very clear. Let's see with an example:"
   ]
  },
  {
   "cell_type": "code",
   "execution_count": 13,
   "metadata": {},
   "outputs": [],
   "source": [
    "a = np.array(list(ascii_lowercase)[:-1]).reshape(5,5)"
   ]
  },
  {
   "cell_type": "markdown",
   "metadata": {},
   "source": [
    "Yes, I know z is missing… Nothing against it, but we need a homogeneous matrix. This example array has a shape of (5, 5), so two dimensions. We can take slices along its dimensions (I'll be using the equivalent term axes) by following the mentioned notation, for instance:"
   ]
  },
  {
   "cell_type": "code",
   "execution_count": 14,
   "metadata": {},
   "outputs": [
    {
     "data": {
      "text/plain": [
       "array([['b', 'c', 'd'],\n",
       "       ['g', 'h', 'i']], dtype='<U1')"
      ]
     },
     "execution_count": 14,
     "metadata": {},
     "output_type": "execute_result"
    }
   ],
   "source": [
    "a[:2, 1:4]"
   ]
  },
  {
   "cell_type": "markdown",
   "metadata": {},
   "source": [
    "So far so good. We’ve basically sliced the array along the first axis to get up to the second row starting at index 0 (note that the stop index is not included!), and along the second to get columns one to three. Think of the axes just as the (x,y,z) dimensions of a matrix. Where a third dimension can be simply though of as stacking multiple 2D arrays together."
   ]
  },
  {
   "cell_type": "markdown",
   "metadata": {},
   "source": [
    "Okay, so now we know we can slice an n-dimensional array using python's slice notation. But what if you had to take values from a given axis using a list of indexes?"
   ]
  },
  {
   "cell_type": "markdown",
   "metadata": {},
   "source": [
    "Well, here’s where advanced indexing comes into play ↓"
   ]
  },
  {
   "cell_type": "markdown",
   "metadata": {},
   "source": [
    "<img src=\"./images/ndarray.png\">"
   ]
  },
  {
   "cell_type": "markdown",
   "metadata": {},
   "source": [
    "## Advanced indexing"
   ]
  },
  {
   "cell_type": "markdown",
   "metadata": {},
   "source": [
    "Let's just go with an example of what an intuitive way of doing this would be:"
   ]
  },
  {
   "cell_type": "code",
   "execution_count": 16,
   "metadata": {},
   "outputs": [],
   "source": [
    "a_indexed = a[[4,3,1], [2,4,0]]"
   ]
  },
  {
   "cell_type": "markdown",
   "metadata": {},
   "source": [
    "Okay, so following the same logic as in basic slicing, one could expect to get all values that fall into the above indexes along the different axes of the ndarray. Namely all values in rows 4, 3 and 1 which are in columns 2, 4 and 0 respectively, so the intersecting values that are highlighted bellow:"
   ]
  },
  {
   "cell_type": "markdown",
   "metadata": {},
   "source": [
    "<img src=\"./images/fig0_ix.png\">"
   ]
  },
  {
   "cell_type": "markdown",
   "metadata": {},
   "source": [
    "Is that so? Let's check:"
   ]
  },
  {
   "cell_type": "code",
   "execution_count": 18,
   "metadata": {},
   "outputs": [
    {
     "data": {
      "text/plain": [
       "array(['w', 't', 'f'], dtype='<U1')"
      ]
     },
     "execution_count": 18,
     "metadata": {},
     "output_type": "execute_result"
    }
   ],
   "source": [
    "a_indexed"
   ]
  },
  {
   "cell_type": "markdown",
   "metadata": {},
   "source": [
    "Clearly  not… (example inspired by this very instructive talk by Jaime Fernández :) ) What happened there? Why are we getting a one-dimensional result?\n",
    "\n",
    "This is because advanced indexing follows a different set of rules. A good way to think about it, is that when using basic slicing, we are indexing on a grid which is defined by the slices we take on each dimension. Whereas using advanced indexing can be thought of as specifying a set of (x,y) coordinates of the values we want to retrieve.\n",
    "In the above case indexing with `[4,3,1],[2,4,0]` , will behave as indexing on `(4,2)` , `(3,4)` and `(1,0)` respectively. So each index we specify in each dimension, will be combined with the corresponding indexes from the other dimensions."
   ]
  },
  {
   "cell_type": "markdown",
   "metadata": {},
   "source": [
    "More generally, when using advanced indexing, we must take into account these two main aspects (from the docs):\n",
    "\n",
    "* *The indexing arrays represent a number of indexes into that dimension*\n",
    "\n",
    "Which basically means that we will retrieve as many elements from a given axis as indexes specified in the indexing array into that dimension. In the above case, we've retrieved 3 elements specified by the length 3 indexing arrays.\n",
    "\n",
    "* *The result shape is identical to the (broadcast) indexing array shapes*\n",
    "\n",
    "To understand the above we need to dive a little into broadcasting…\n",
    "Going deep into broadcasting could easily lead to an another entire blog post, so i'll just try to cover the very essentials… From the docs:"
   ]
  },
  {
   "cell_type": "markdown",
   "metadata": {},
   "source": [
    "*broadcasting is defined as a term describing how NumPy treats arrays with different shapes during arithmetic operations. Subject to certain constraints, the smaller array is \"broadcast\" across the larger array so that they have compatible shapes*"
   ]
  },
  {
   "cell_type": "markdown",
   "metadata": {},
   "source": [
    "So basically, when some operation involving arrays with different shapes is performed, NumPy tries to make their shapes compatible before the operation takes place. Let's take a look at some visual examples (from [here](https://jakevdp.github.io/PythonDataScienceHandbook/02.05-computation-on-arrays-broadcasting.html)):"
   ]
  },
  {
   "cell_type": "markdown",
   "metadata": {},
   "source": [
    "<img src=\"./images/broadcasting.png\">"
   ]
  },
  {
   "cell_type": "markdown",
   "metadata": {},
   "source": [
    "n the first case for instance, a one-dimensional NumPy array is added to an integer. So under the hood, before the addition takes place NumPy will broadcast the smaller shaped array across the larger, i.e it will replicate its value until its shape becomes compatible with that of the larger array. \n",
    "\n",
    "And how do we know if two shapes are compatible?\n",
    "We can find the general broadcasting rules defined in the docs. It is stated that two dimensions are compatible when\n",
    "* they are equal, or\n",
    "* one of them is 1"
   ]
  },
  {
   "cell_type": "markdown",
   "metadata": {},
   "source": [
    "Okay so what does all this have to do with advanced indexing? Well, reminding the second mentioned point, the resulting shape from an advanced indexing is identical to the (broadcast) indexing array shapes. This basically means that NumPy will try to make the shapes from the indexing arrays compatible before performing the indexing operation. A simple way to inspect what the resulting shape will look like (in the case the arrays can be broadcast) is by using `np.broadcast` . Let's see with the same example as above:"
   ]
  },
  {
   "cell_type": "markdown",
   "metadata": {},
   "source": [
    "Say we now want to index the array with:"
   ]
  },
  {
   "cell_type": "code",
   "execution_count": 20,
   "metadata": {},
   "outputs": [],
   "source": [
    "rows = np.array([0,2,1])\n",
    "cols = np.array([2])"
   ]
  },
  {
   "cell_type": "markdown",
   "metadata": {},
   "source": [
    "So using the above indexes, we would get an array with the shape:"
   ]
  },
  {
   "cell_type": "code",
   "execution_count": 22,
   "metadata": {},
   "outputs": [
    {
     "name": "stdout",
     "output_type": "stream",
     "text": [
      "(3,)\n"
     ]
    }
   ],
   "source": [
    "ix = np.broadcast(rows, cols)\n",
    "print(ix.shape)"
   ]
  },
  {
   "cell_type": "markdown",
   "metadata": {},
   "source": [
    "So here as we can see, a broadcast as in the first case in the figure above is taking place. The array will be indexed on the following (x,y) coordinates:"
   ]
  },
  {
   "cell_type": "code",
   "execution_count": 23,
   "metadata": {},
   "outputs": [
    {
     "name": "stdout",
     "output_type": "stream",
     "text": [
      "(0, 2) (2, 2) (1, 2)\n"
     ]
    }
   ],
   "source": [
    "print(*ix)"
   ]
  },
  {
   "cell_type": "markdown",
   "metadata": {},
   "source": [
    "Hence we get:"
   ]
  },
  {
   "cell_type": "code",
   "execution_count": 24,
   "metadata": {},
   "outputs": [
    {
     "data": {
      "text/plain": [
       "array(['c', 'm', 'h'], dtype='<U1')"
      ]
     },
     "execution_count": 24,
     "metadata": {},
     "output_type": "execute_result"
    }
   ],
   "source": [
    "a[rows, cols]"
   ]
  },
  {
   "cell_type": "markdown",
   "metadata": {},
   "source": [
    "Which, since both arrays are being broadcast, the above is equivalent to:"
   ]
  },
  {
   "cell_type": "code",
   "execution_count": 25,
   "metadata": {},
   "outputs": [
    {
     "data": {
      "text/plain": [
       "array(['c', 'm', 'h'], dtype='<U1')"
      ]
     },
     "execution_count": 25,
     "metadata": {},
     "output_type": "execute_result"
    }
   ],
   "source": [
    "a[[0, 2, 1], [2, 2, 2]]"
   ]
  },
  {
   "cell_type": "markdown",
   "metadata": {},
   "source": [
    "So in order to index with integer arrays, we just have to make sure that their shapes can be broadcast together and then just let NumPy take care of the rest.\n",
    "Okay, so now we know how to index an array using integer indexes…"
   ]
  },
  {
   "cell_type": "markdown",
   "metadata": {},
   "source": [
    "So the question that follows is….\n",
    "**What if I want the indexing to behave as it does with basic slicing?** i.e how can we obtain what we were expecting in the first case, instead of `array(['W', 'T', 'F'])` ?\n",
    "Let's go back to that example… We were using the indexes:"
   ]
  },
  {
   "cell_type": "markdown",
   "metadata": {},
   "source": [
    "Let's go back to that example… We were using the indexes:"
   ]
  },
  {
   "cell_type": "code",
   "execution_count": 26,
   "metadata": {},
   "outputs": [],
   "source": [
    "rows = np.array([4,3,1])\n",
    "cols = np.array([2,4,0])"
   ]
  },
  {
   "cell_type": "markdown",
   "metadata": {},
   "source": [
    "In this case, as we verified before, we are getting a one-dimensional array as a result from:"
   ]
  },
  {
   "cell_type": "code",
   "execution_count": 27,
   "metadata": {},
   "outputs": [
    {
     "name": "stdout",
     "output_type": "stream",
     "text": [
      "(4, 2) (3, 4) (1, 0)\n"
     ]
    }
   ],
   "source": [
    "ix = np.broadcast(rows, cols)\n",
    "print(*ix)"
   ]
  },
  {
   "cell_type": "markdown",
   "metadata": {},
   "source": [
    "So we have to find a way for NumPy to understand that we want to retrieve a grid containing all values. How can this be done…?"
   ]
  },
  {
   "cell_type": "markdown",
   "metadata": {},
   "source": [
    "The answer is… to **USE BROADCASTING!!**\n",
    "\n",
    "Taking into account that what broadcasting is doing is to stretch the smaller array so that all array shapes are compatible, we can leverage this idea to get the result we expected.\n",
    "\n",
    "What we can do is to add an axis to one of the arrays, so that NumPy broadcasts the smaller to fit the size of the larger (smaller here in terms of the amount of dimensions). That can be done with:"
   ]
  },
  {
   "cell_type": "code",
   "execution_count": 28,
   "metadata": {},
   "outputs": [
    {
     "data": {
      "text/plain": [
       "array([[4],\n",
       "       [3],\n",
       "       [1]])"
      ]
     },
     "execution_count": 28,
     "metadata": {},
     "output_type": "execute_result"
    }
   ],
   "source": [
    "rows[:,np.newaxis]"
   ]
  },
  {
   "cell_type": "markdown",
   "metadata": {},
   "source": [
    "Or we could equivalently use rows[:,None]. Now both indexing arrays con be broadcast together and can be used to index the array:"
   ]
  },
  {
   "cell_type": "code",
   "execution_count": 29,
   "metadata": {},
   "outputs": [
    {
     "name": "stdout",
     "output_type": "stream",
     "text": [
      "(4, 2) (4, 4) (4, 0) (3, 2) (3, 4) (3, 0) (1, 2) (1, 4) (1, 0)\n"
     ]
    }
   ],
   "source": [
    "ix = np.broadcast(rows[:,None], cols)\n",
    "print(*ix)"
   ]
  },
  {
   "cell_type": "markdown",
   "metadata": {},
   "source": [
    "We can think of this as generating the cartesian product of our lists of indexes in order to retrieve all of them from the array. We could actually reproduce this using `itertools.product`:"
   ]
  },
  {
   "cell_type": "code",
   "execution_count": 32,
   "metadata": {},
   "outputs": [
    {
     "name": "stdout",
     "output_type": "stream",
     "text": [
      "(4, 2) (4, 4) (4, 0) (3, 2) (3, 4) (3, 0) (1, 2) (1, 4) (1, 0)\n"
     ]
    }
   ],
   "source": [
    "print(*product(rows, cols))"
   ]
  },
  {
   "cell_type": "markdown",
   "metadata": {},
   "source": [
    "So now by indexing the array with the broadcast indexes, we get:"
   ]
  },
  {
   "cell_type": "code",
   "execution_count": 33,
   "metadata": {},
   "outputs": [
    {
     "data": {
      "text/plain": [
       "array([['w', 'y', 'u'],\n",
       "       ['r', 't', 'p'],\n",
       "       ['h', 'j', 'f']], dtype='<U1')"
      ]
     },
     "execution_count": 33,
     "metadata": {},
     "output_type": "execute_result"
    }
   ],
   "source": [
    "a[rows[:,None], cols]"
   ]
  },
  {
   "cell_type": "markdown",
   "metadata": {},
   "source": [
    "This broadcasting can also be achieved using the function `np.ix_`:"
   ]
  },
  {
   "cell_type": "code",
   "execution_count": 35,
   "metadata": {},
   "outputs": [
    {
     "data": {
      "text/plain": [
       "array([['w', 'y', 'u'],\n",
       "       ['r', 't', 'p'],\n",
       "       ['h', 'j', 'f']], dtype='<U1')"
      ]
     },
     "execution_count": 35,
     "metadata": {},
     "output_type": "execute_result"
    }
   ],
   "source": [
    "a[np.ix_(rows, cols)]"
   ]
  },
  {
   "cell_type": "markdown",
   "metadata": {},
   "source": [
    "So as we can see integer indexing is a really useful tool, we just need to understand how it works. A very common application is when we have an array or nested list of indexes, for instance:"
   ]
  },
  {
   "cell_type": "code",
   "execution_count": 36,
   "metadata": {},
   "outputs": [],
   "source": [
    "cols = [[3,4], [0,2], [0,1], [1,2], [3,3]]"
   ]
  },
  {
   "cell_type": "markdown",
   "metadata": {},
   "source": [
    "And we want to take these columns respectively along the first axis, so columns 3 and 4 from the first row, 0 and 2 from the second row and so on. How can we do that? Why don't you give it a try…?"
   ]
  },
  {
   "cell_type": "markdown",
   "metadata": {},
   "source": [
    "As mentioned earlier, in integer indexing indexes along the dimensions are combined through broadcasting rules. Hence, leveraging broadcasting, we want to obtain a set of indexes whose combined shape is broadcastable to the desired output shape. Which in this case is straight forward, since we have a sublist for each row. So it becomes clear that we want a range containing as many values as rows to index across the first axis.\n",
    "So an obvious way to do this could be:"
   ]
  },
  {
   "cell_type": "code",
   "execution_count": null,
   "metadata": {},
   "outputs": [],
   "source": [
    "rows = np.arange(a.shape[0])\n",
    "a[rows, cols]"
   ]
  },
  {
   "cell_type": "raw",
   "metadata": {},
   "source": [
    "---------------------------------------------------------------------------\n",
    "IndexError                                Traceback (most recent call last)\n",
    "<ipython-input-37-0c5261d0abb1> in <module>\n",
    "      1 rows = np.arange(a.shape[0])\n",
    "----> 2 a[rows, cols]\n",
    "\n",
    "IndexError: shape mismatch: indexing arrays could not be broadcast together with shapes (5,) (5,2) "
   ]
  },
  {
   "cell_type": "markdown",
   "metadata": {},
   "source": [
    "As we can see the error is quite explicit, the indexing arrays cannot be broadcast together. This is because the shapes along the corresponding axis are not compatible, since we have that:"
   ]
  },
  {
   "cell_type": "raw",
   "metadata": {},
   "source": [
    "cols (2d array): 5 x 2\n",
    "rows (1d array):     5"
   ]
  },
  {
   "cell_type": "markdown",
   "metadata": {},
   "source": [
    "With the above sketch it becomes clear that for the shapes to be compatible, we must add a new axis to rows, so that the second axes on both arrays have the same shape and the first axis of rows is 1, which satisfies the second rule of broadcasting:"
   ]
  },
  {
   "cell_type": "markdown",
   "metadata": {},
   "source": [
    "Now we would get as expected:"
   ]
  },
  {
   "cell_type": "code",
   "execution_count": 38,
   "metadata": {},
   "outputs": [
    {
     "data": {
      "text/plain": [
       "array([['d', 'e'],\n",
       "       ['f', 'h'],\n",
       "       ['k', 'l'],\n",
       "       ['q', 'r'],\n",
       "       ['x', 'x']], dtype='<U1')"
      ]
     },
     "execution_count": 38,
     "metadata": {},
     "output_type": "execute_result"
    }
   ],
   "source": [
    "a[rows[:,None], cols]"
   ]
  },
  {
   "cell_type": "markdown",
   "metadata": {},
   "source": [
    "Now for the last section… **Is it possible to combine both types of indexing?**"
   ]
  },
  {
   "cell_type": "markdown",
   "metadata": {},
   "source": [
    "## Combining advanced indexing and basic slicing"
   ]
  },
  {
   "cell_type": "markdown",
   "metadata": {},
   "source": [
    "It is also possible to combine basic slicing and advanced indexing. This will lead to integer array indexes being broadcast together in the same fashion as we've previously seen, and the slices behaving as we've seen in the basic slicing section. However under some situations this can lead to unexpected results.\n",
    "Let's take the following example as a reference to better explain this:"
   ]
  },
  {
   "cell_type": "code",
   "execution_count": 41,
   "metadata": {},
   "outputs": [
    {
     "data": {
      "text/plain": [
       "array([[[ 0,  1,  2,  3,  4],\n",
       "        [ 5,  6,  7,  8,  9],\n",
       "        [10, 11, 12, 13, 14],\n",
       "        [15, 16, 17, 18, 19]],\n",
       "\n",
       "       [[20, 21, 22, 23, 24],\n",
       "        [25, 26, 27, 28, 29],\n",
       "        [30, 31, 32, 33, 34],\n",
       "        [35, 36, 37, 38, 39]],\n",
       "\n",
       "       [[40, 41, 42, 43, 44],\n",
       "        [45, 46, 47, 48, 49],\n",
       "        [50, 51, 52, 53, 54],\n",
       "        [55, 56, 57, 58, 59]]])"
      ]
     },
     "execution_count": 41,
     "metadata": {},
     "output_type": "execute_result"
    }
   ],
   "source": [
    "a = np.arange(60).reshape(3,4,5)\n",
    "a"
   ]
  },
  {
   "cell_type": "markdown",
   "metadata": {},
   "source": [
    "For combined indexing, we need to take into account these following guiding rules:\n",
    "* *Integer array indexing rules apply only if two or more non-slice objects are introduced*\n",
    "\n",
    "That means that if we only use one integer array to index such as:"
   ]
  },
  {
   "cell_type": "code",
   "execution_count": 44,
   "metadata": {},
   "outputs": [
    {
     "name": "stdout",
     "output_type": "stream",
     "text": [
      "(2, 2, 5)\n"
     ]
    }
   ],
   "source": [
    "a_s = a[:2, [0, 1]]\n",
    "print(a_s.shape)"
   ]
  },
  {
   "cell_type": "code",
   "execution_count": 46,
   "metadata": {},
   "outputs": [
    {
     "data": {
      "text/plain": [
       "array([[[ 0,  1,  2,  3,  4],\n",
       "        [ 5,  6,  7,  8,  9]],\n",
       "\n",
       "       [[20, 21, 22, 23, 24],\n",
       "        [25, 26, 27, 28, 29]]])"
      ]
     },
     "execution_count": 46,
     "metadata": {},
     "output_type": "execute_result"
    }
   ],
   "source": [
    "a_s"
   ]
  },
  {
   "cell_type": "markdown",
   "metadata": {},
   "source": [
    "So since basic slicing rules apply here the above would be equivalent to `a[:2,:2]`.\n",
    "However, as soon as we have more than one indexing array, advanced indexing rules will apply:"
   ]
  },
  {
   "cell_type": "code",
   "execution_count": 50,
   "metadata": {},
   "outputs": [
    {
     "data": {
      "text/plain": [
       "(2, 2)"
      ]
     },
     "execution_count": 50,
     "metadata": {},
     "output_type": "execute_result"
    }
   ],
   "source": [
    "a_s = a[:2, [0, 1], [2, 4]]\n",
    "a_s.shape"
   ]
  },
  {
   "cell_type": "code",
   "execution_count": 49,
   "metadata": {},
   "outputs": [
    {
     "data": {
      "text/plain": [
       "array([[ 2,  9],\n",
       "       [22, 29]])"
      ]
     },
     "execution_count": 49,
     "metadata": {},
     "output_type": "execute_result"
    }
   ],
   "source": [
    "a_s"
   ]
  },
  {
   "cell_type": "markdown",
   "metadata": {},
   "source": [
    "We we can see that adding an indexing array for the last axis, leads to an output the shape of which is dependant of the broadcast shape of both indexing arrays, which is (2,2).\n",
    "\n",
    "* *The resulting axes introduced by the arrays indexes are at the front, unless they are consecutive*\n",
    "\n",
    "Let's take a look at some examples to see this more clearly. Taking for instance the following pairs of indexes:"
   ]
  },
  {
   "cell_type": "code",
   "execution_count": 51,
   "metadata": {},
   "outputs": [],
   "source": [
    "ix1 = np.array([0,1])\n",
    "ix2 = np.array([1,3])"
   ]
  },
  {
   "cell_type": "markdown",
   "metadata": {},
   "source": [
    "We could for instance, index along the two first axes using ix1 and ix2 respectively and take a full slice along the last axis. In such case we would get the 2D-arrays 0 and 1, rows 1 and 3 respectively and a full slice along the last axis for both cases:"
   ]
  },
  {
   "cell_type": "code",
   "execution_count": 52,
   "metadata": {},
   "outputs": [],
   "source": [
    "a_s = a[ix1, ix2, :]"
   ]
  },
  {
   "cell_type": "code",
   "execution_count": 53,
   "metadata": {},
   "outputs": [
    {
     "data": {
      "text/plain": [
       "(2, 5)"
      ]
     },
     "execution_count": 53,
     "metadata": {},
     "output_type": "execute_result"
    }
   ],
   "source": [
    "a_s.shape"
   ]
  },
  {
   "cell_type": "code",
   "execution_count": 54,
   "metadata": {},
   "outputs": [
    {
     "data": {
      "text/plain": [
       "array([[ 5,  6,  7,  8,  9],\n",
       "       [35, 36, 37, 38, 39]])"
      ]
     },
     "execution_count": 54,
     "metadata": {},
     "output_type": "execute_result"
    }
   ],
   "source": [
    "a_s"
   ]
  },
  {
   "cell_type": "markdown",
   "metadata": {},
   "source": [
    "So we've selected the elements:"
   ]
  },
  {
   "cell_type": "markdown",
   "metadata": {},
   "source": [
    "<img src=\"./images/fig2_ix.png\">"
   ]
  },
  {
   "cell_type": "markdown",
   "metadata": {},
   "source": [
    "Note that as mentioned earlier, here both different method's rules work as expected and are combined. Basic slicing along the last axis is following the rules of basic slicing mentioned in the first section, so if you were to instead index with an array you'd get:"
   ]
  },
  {
   "cell_type": "code",
   "execution_count": 59,
   "metadata": {},
   "outputs": [],
   "source": [
    "ix3 = np.array([1,2])"
   ]
  },
  {
   "cell_type": "code",
   "execution_count": 60,
   "metadata": {},
   "outputs": [
    {
     "data": {
      "text/plain": [
       "array([ 6, 37])"
      ]
     },
     "execution_count": 60,
     "metadata": {},
     "output_type": "execute_result"
    }
   ],
   "source": [
    "a[ix1, ix2, ix3]"
   ]
  },
  {
   "cell_type": "markdown",
   "metadata": {},
   "source": [
    "We could also index in the following way:"
   ]
  },
  {
   "cell_type": "code",
   "execution_count": 61,
   "metadata": {},
   "outputs": [],
   "source": [
    "a_s = a[:, ix1, ix2]"
   ]
  },
  {
   "cell_type": "code",
   "execution_count": 62,
   "metadata": {},
   "outputs": [
    {
     "data": {
      "text/plain": [
       "(3, 2)"
      ]
     },
     "execution_count": 62,
     "metadata": {},
     "output_type": "execute_result"
    }
   ],
   "source": [
    "a_s.shape"
   ]
  },
  {
   "cell_type": "code",
   "execution_count": 63,
   "metadata": {},
   "outputs": [
    {
     "data": {
      "text/plain": [
       "array([[ 1,  8],\n",
       "       [21, 28],\n",
       "       [41, 48]])"
      ]
     },
     "execution_count": 63,
     "metadata": {},
     "output_type": "execute_result"
    }
   ],
   "source": [
    "a_s"
   ]
  },
  {
   "cell_type": "markdown",
   "metadata": {},
   "source": [
    "So a full slice on the first axis to select all 2D arrays, then select rows 0 and 1 and columns 1 and 3 respectively, so:"
   ]
  },
  {
   "cell_type": "markdown",
   "metadata": {},
   "source": [
    "<img src=\"images/fig3_ix.png\">"
   ]
  },
  {
   "cell_type": "markdown",
   "metadata": {},
   "source": [
    "So finally if we use the indexing arrays to index on the first and last axes, as `a[ix1, :, ix2]`, we would expect to index on the first two 2D-arrays, take a full slice on the second axis (so all rows), and columns 1 and 3 respectively. So:"
   ]
  },
  {
   "cell_type": "markdown",
   "metadata": {},
   "source": [
    "<img src=\"./images/fig4_ix.png\">"
   ]
  },
  {
   "cell_type": "markdown",
   "metadata": {},
   "source": [
    "With a resulting shape of (4, 2), let's check:"
   ]
  },
  {
   "cell_type": "code",
   "execution_count": 65,
   "metadata": {},
   "outputs": [],
   "source": [
    "a_s = a[ix1, :, ix2]"
   ]
  },
  {
   "cell_type": "code",
   "execution_count": 66,
   "metadata": {},
   "outputs": [
    {
     "data": {
      "text/plain": [
       "(2, 4)"
      ]
     },
     "execution_count": 66,
     "metadata": {},
     "output_type": "execute_result"
    }
   ],
   "source": [
    "a_s.shape"
   ]
  },
  {
   "cell_type": "code",
   "execution_count": 67,
   "metadata": {},
   "outputs": [
    {
     "data": {
      "text/plain": [
       "array([[ 1,  6, 11, 16],\n",
       "       [23, 28, 33, 38]])"
      ]
     },
     "execution_count": 67,
     "metadata": {},
     "output_type": "execute_result"
    }
   ],
   "source": [
    "a_s"
   ]
  },
  {
   "cell_type": "markdown",
   "metadata": {},
   "source": [
    "Why is this case different…?? \n",
    "\n",
    "Going back to the second rule: The resulting axes introduced by the arrays indexes are at the front, unless they are consecutive. So since the indexing arrays here are not consecutive, the resulting axes on which they've been used will come at the front, and the sliced dimension at the back.\n",
    "\n",
    "While it might seem very weird when indexing with 1-dimensional arrays, take into account that it is also possible to index with arrays of an arbitrary amount of dimensions. Say we are indexing the same example array both on the first and last axes with 3d arrays, both of shape (3,4,2). So we know that the final array will somewhere also have the shape (3,4,2), since both indexing arrays broadcast to the same shape. Now the question is, *where do we place a full slice taken between the first and last axis?*"
   ]
  },
  {
   "cell_type": "markdown",
   "metadata": {},
   "source": [
    "Given that it is no longer as clear that it should go in the middle, there is a convention in these cases which is that sliced dimensions go at the end.\n",
    "\n",
    "So in such cases it will be our task to rearrange the dimensions of the array to match our expected output. On the example above what we could do is to swap the last two axes and get as we expected with:"
   ]
  },
  {
   "cell_type": "code",
   "execution_count": 68,
   "metadata": {},
   "outputs": [
    {
     "data": {
      "text/plain": [
       "array([[ 1, 23],\n",
       "       [ 6, 28],\n",
       "       [11, 33],\n",
       "       [16, 38]])"
      ]
     },
     "execution_count": 68,
     "metadata": {},
     "output_type": "execute_result"
    }
   ],
   "source": [
    "a[ix1, :, ix2].swapaxes(0,1)"
   ]
  },
  {
   "cell_type": "markdown",
   "metadata": {},
   "source": [
    "Which is basically the same as transposing in this case, `a[ix1, :, ix2].T`.\n",
    "\n",
    "So, as a takeaway from this last section, we must be careful when combining both indexing methods since we might not always get what we expect. The safest will be to bear in mind the caveats of combined indexing to make sure that it will behave as we expect it to."
   ]
  }
 ],
 "metadata": {
  "kernelspec": {
   "display_name": "data-science",
   "language": "python",
   "name": "data-science"
  },
  "language_info": {
   "codemirror_mode": {
    "name": "ipython",
    "version": 3
   },
   "file_extension": ".py",
   "mimetype": "text/x-python",
   "name": "python",
   "nbconvert_exporter": "python",
   "pygments_lexer": "ipython3",
   "version": "3.6.7"
  }
 },
 "nbformat": 4,
 "nbformat_minor": 2
}
